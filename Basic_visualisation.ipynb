{
 "cells": [
  {
   "cell_type": "code",
   "execution_count": 1,
   "id": "63ab9bb8-e7d2-4d27-9e47-2a5209d125ec",
   "metadata": {},
   "outputs": [],
   "source": [
    "import pandas as pd\n",
    "import numpy as np\n",
    "\n",
    "import seaborn as sns\n",
    "import matplotlib.pyplot as plt\n",
    "\n",
    "\n"
   ]
  },
  {
   "cell_type": "code",
   "execution_count": 2,
   "id": "823cbc55-1a36-4beb-ab75-fe0071bbad20",
   "metadata": {},
   "outputs": [
    {
     "data": {
      "text/html": [
       "<div>\n",
       "<style scoped>\n",
       "    .dataframe tbody tr th:only-of-type {\n",
       "        vertical-align: middle;\n",
       "    }\n",
       "\n",
       "    .dataframe tbody tr th {\n",
       "        vertical-align: top;\n",
       "    }\n",
       "\n",
       "    .dataframe thead th {\n",
       "        text-align: right;\n",
       "    }\n",
       "</style>\n",
       "<table border=\"1\" class=\"dataframe\">\n",
       "  <thead>\n",
       "    <tr style=\"text-align: right;\">\n",
       "      <th></th>\n",
       "      <th>DateTime</th>\n",
       "      <th>Sales</th>\n",
       "    </tr>\n",
       "  </thead>\n",
       "  <tbody>\n",
       "    <tr>\n",
       "      <th>0</th>\n",
       "      <td>2017-02-19 13:00:00</td>\n",
       "      <td>107.90</td>\n",
       "    </tr>\n",
       "    <tr>\n",
       "      <th>1</th>\n",
       "      <td>2017-02-19 13:15:00</td>\n",
       "      <td>115.05</td>\n",
       "    </tr>\n",
       "    <tr>\n",
       "      <th>2</th>\n",
       "      <td>2017-02-19 13:30:00</td>\n",
       "      <td>121.94</td>\n",
       "    </tr>\n",
       "    <tr>\n",
       "      <th>3</th>\n",
       "      <td>2017-02-19 13:45:00</td>\n",
       "      <td>104.52</td>\n",
       "    </tr>\n",
       "    <tr>\n",
       "      <th>4</th>\n",
       "      <td>2017-02-19 14:00:00</td>\n",
       "      <td>103.09</td>\n",
       "    </tr>\n",
       "    <tr>\n",
       "      <th>...</th>\n",
       "      <td>...</td>\n",
       "      <td>...</td>\n",
       "    </tr>\n",
       "    <tr>\n",
       "      <th>66309</th>\n",
       "      <td>2021-07-31 19:45:00</td>\n",
       "      <td>107.90</td>\n",
       "    </tr>\n",
       "    <tr>\n",
       "      <th>66310</th>\n",
       "      <td>2021-07-31 20:00:00</td>\n",
       "      <td>108.94</td>\n",
       "    </tr>\n",
       "    <tr>\n",
       "      <th>66311</th>\n",
       "      <td>2021-07-31 20:15:00</td>\n",
       "      <td>105.04</td>\n",
       "    </tr>\n",
       "    <tr>\n",
       "      <th>66312</th>\n",
       "      <td>2021-07-31 20:30:00</td>\n",
       "      <td>111.80</td>\n",
       "    </tr>\n",
       "    <tr>\n",
       "      <th>66313</th>\n",
       "      <td>2021-07-31 20:45:00</td>\n",
       "      <td>95.42</td>\n",
       "    </tr>\n",
       "  </tbody>\n",
       "</table>\n",
       "<p>66314 rows × 2 columns</p>\n",
       "</div>"
      ],
      "text/plain": [
       "                 DateTime   Sales\n",
       "0     2017-02-19 13:00:00  107.90\n",
       "1     2017-02-19 13:15:00  115.05\n",
       "2     2017-02-19 13:30:00  121.94\n",
       "3     2017-02-19 13:45:00  104.52\n",
       "4     2017-02-19 14:00:00  103.09\n",
       "...                   ...     ...\n",
       "66309 2021-07-31 19:45:00  107.90\n",
       "66310 2021-07-31 20:00:00  108.94\n",
       "66311 2021-07-31 20:15:00  105.04\n",
       "66312 2021-07-31 20:30:00  111.80\n",
       "66313 2021-07-31 20:45:00   95.42\n",
       "\n",
       "[66314 rows x 2 columns]"
      ]
     },
     "execution_count": 2,
     "metadata": {},
     "output_type": "execute_result"
    }
   ],
   "source": [
    "def load_data(filename):\n",
    "    df=pd.read_csv(filename,sep='\\t')\n",
    "    df['DateTime']=pd.to_datetime(df['DateTime']).dt.round('15min')\n",
    "    return df\n",
    "\n",
    "sales_data = load_data(\"data/sales_data.csv\")\n",
    "sales_data"
   ]
  },
  {
   "cell_type": "code",
   "execution_count": 3,
   "id": "d3151cd8-48c9-433c-80ed-c76f79712d21",
   "metadata": {},
   "outputs": [
    {
     "name": "stdout",
     "output_type": "stream",
     "text": [
      "<class 'pandas.core.frame.DataFrame'>\n",
      "RangeIndex: 66314 entries, 0 to 66313\n",
      "Data columns (total 2 columns):\n",
      " #   Column    Non-Null Count  Dtype         \n",
      "---  ------    --------------  -----         \n",
      " 0   DateTime  66314 non-null  datetime64[ns]\n",
      " 1   Sales     66314 non-null  float64       \n",
      "dtypes: datetime64[ns](1), float64(1)\n",
      "memory usage: 1.0 MB\n"
     ]
    }
   ],
   "source": [
    "sales_data.info()"
   ]
  },
  {
   "cell_type": "code",
   "execution_count": 4,
   "id": "7dbf6582-3149-4dc0-868a-172b9b979d1a",
   "metadata": {},
   "outputs": [
    {
     "name": "stdout",
     "output_type": "stream",
     "text": [
      "1623 days\n",
      "4.45 years\n"
     ]
    },
    {
     "name": "stderr",
     "output_type": "stream",
     "text": [
      "c:\\users\\rick\\appdata\\local\\programs\\python\\python37\\lib\\site-packages\\ipykernel_launcher.py:2: UserWarning: Pandas doesn't allow columns to be created via a new attribute name - see https://pandas.pydata.org/pandas-docs/stable/indexing.html#attribute-access\n",
      "  \n"
     ]
    },
    {
     "data": {
      "text/html": [
       "<div>\n",
       "<style scoped>\n",
       "    .dataframe tbody tr th:only-of-type {\n",
       "        vertical-align: middle;\n",
       "    }\n",
       "\n",
       "    .dataframe tbody tr th {\n",
       "        vertical-align: top;\n",
       "    }\n",
       "\n",
       "    .dataframe thead th {\n",
       "        text-align: right;\n",
       "    }\n",
       "</style>\n",
       "<table border=\"1\" class=\"dataframe\">\n",
       "  <thead>\n",
       "    <tr style=\"text-align: right;\">\n",
       "      <th></th>\n",
       "      <th>DateTime</th>\n",
       "      <th>Sales</th>\n",
       "    </tr>\n",
       "  </thead>\n",
       "  <tbody>\n",
       "    <tr>\n",
       "      <th>0</th>\n",
       "      <td>2017-02-19 13:00:00</td>\n",
       "      <td>107.90</td>\n",
       "    </tr>\n",
       "    <tr>\n",
       "      <th>1</th>\n",
       "      <td>2017-02-19 13:15:00</td>\n",
       "      <td>115.05</td>\n",
       "    </tr>\n",
       "    <tr>\n",
       "      <th>2</th>\n",
       "      <td>2017-02-19 13:30:00</td>\n",
       "      <td>121.94</td>\n",
       "    </tr>\n",
       "    <tr>\n",
       "      <th>3</th>\n",
       "      <td>2017-02-19 13:45:00</td>\n",
       "      <td>104.52</td>\n",
       "    </tr>\n",
       "    <tr>\n",
       "      <th>4</th>\n",
       "      <td>2017-02-19 14:00:00</td>\n",
       "      <td>103.09</td>\n",
       "    </tr>\n",
       "    <tr>\n",
       "      <th>...</th>\n",
       "      <td>...</td>\n",
       "      <td>...</td>\n",
       "    </tr>\n",
       "    <tr>\n",
       "      <th>66309</th>\n",
       "      <td>2021-07-31 19:45:00</td>\n",
       "      <td>107.90</td>\n",
       "    </tr>\n",
       "    <tr>\n",
       "      <th>66310</th>\n",
       "      <td>2021-07-31 20:00:00</td>\n",
       "      <td>108.94</td>\n",
       "    </tr>\n",
       "    <tr>\n",
       "      <th>66311</th>\n",
       "      <td>2021-07-31 20:15:00</td>\n",
       "      <td>105.04</td>\n",
       "    </tr>\n",
       "    <tr>\n",
       "      <th>66312</th>\n",
       "      <td>2021-07-31 20:30:00</td>\n",
       "      <td>111.80</td>\n",
       "    </tr>\n",
       "    <tr>\n",
       "      <th>66313</th>\n",
       "      <td>2021-07-31 20:45:00</td>\n",
       "      <td>95.42</td>\n",
       "    </tr>\n",
       "  </tbody>\n",
       "</table>\n",
       "<p>66314 rows × 2 columns</p>\n",
       "</div>"
      ],
      "text/plain": [
       "                 DateTime   Sales\n",
       "0     2017-02-19 13:00:00  107.90\n",
       "1     2017-02-19 13:15:00  115.05\n",
       "2     2017-02-19 13:30:00  121.94\n",
       "3     2017-02-19 13:45:00  104.52\n",
       "4     2017-02-19 14:00:00  103.09\n",
       "...                   ...     ...\n",
       "66309 2021-07-31 19:45:00  107.90\n",
       "66310 2021-07-31 20:00:00  108.94\n",
       "66311 2021-07-31 20:15:00  105.04\n",
       "66312 2021-07-31 20:30:00  111.80\n",
       "66313 2021-07-31 20:45:00   95.42\n",
       "\n",
       "[66314 rows x 2 columns]"
      ]
     },
     "execution_count": 4,
     "metadata": {},
     "output_type": "execute_result"
    }
   ],
   "source": [
    "def sales_duration(data):\n",
    "    data.date = pd.to_datetime(data.DateTime)\n",
    "    number_of_days = data.DateTime.max() - data.DateTime.min()\n",
    "    number_of_years = number_of_days.days / 365\n",
    "    print(number_of_days.days, 'days')\n",
    "    print(round(number_of_years,2), 'years')\n",
    "    \n",
    "sales_duration(sales_data)\n",
    "sales_data"
   ]
  },
  {
   "cell_type": "code",
   "execution_count": 5,
   "id": "02e0b73c-a3a9-4a59-bb6c-c2a02fbf147d",
   "metadata": {},
   "outputs": [
    {
     "data": {
      "text/plain": [
       "count    66314.000000\n",
       "mean       106.048718\n",
       "std         13.063616\n",
       "min          0.000000\n",
       "25%         98.020000\n",
       "50%        103.090000\n",
       "75%        110.630000\n",
       "max        836.550000\n",
       "Name: Sales, dtype: float64"
      ]
     },
     "execution_count": 5,
     "metadata": {},
     "output_type": "execute_result"
    }
   ],
   "source": [
    "sales_data.Sales.describe()"
   ]
  },
  {
   "cell_type": "code",
   "execution_count": 7,
   "id": "433e1048-7dfd-4a2f-9498-8b286a31a267",
   "metadata": {},
   "outputs": [
    {
     "name": "stderr",
     "output_type": "stream",
     "text": [
      "c:\\users\\rick\\appdata\\local\\programs\\python\\python37\\lib\\site-packages\\seaborn\\_decorators.py:43: FutureWarning: Pass the following variables as keyword args: x, y. From version 0.12, the only valid positional argument will be `data`, and passing other arguments without an explicit keyword will result in an error or misinterpretation.\n",
      "  FutureWarning\n"
     ]
    },
    {
     "data": {
      "image/png": "[encoded data removed]",
      "text/plain": [
       "<Figure size 1080x360 with 1 Axes>"
      ]
     },
     "metadata": {
      "needs_background": "light"
     },
     "output_type": "display_data"
    }
   ],
   "source": [
    "def time_plot(data, x_col, y_col, title):\n",
    "    fig, ax = plt.subplots(figsize=(15,5))\n",
    "    sns.lineplot(x_col, y_col, data=data, ax=ax, label='Total Sales')\n",
    "    ax.set(xlabel = \"Date\",\n",
    "           ylabel = \"Sales\",\n",
    "           title = title)\n",
    "    \n",
    "    sns.despine()\n",
    "time_plot(sales_data, 'DateTime', 'Sales', 'Monthly Sales')"
   ]
  },
  {
   "cell_type": "code",
   "execution_count": null,
   "id": "ba8e81b2-00c2-4c43-9e1b-93719922f0a4",
   "metadata": {},
   "outputs": [],
   "source": []
  }
 ],
 "metadata": {
  "kernelspec": {
   "display_name": "Python 3 (ipykernel)",
   "language": "python",
   "name": "python3"
  },
  "language_info": {
   "codemirror_mode": {
    "name": "ipython",
    "version": 3
   },
   "file_extension": ".py",
   "mimetype": "text/x-python",
   "name": "python",
   "nbconvert_exporter": "python",
   "pygments_lexer": "ipython3",
   "version": "3.7.9"
  }
 },
 "nbformat": 4,
 "nbformat_minor": 5
}
